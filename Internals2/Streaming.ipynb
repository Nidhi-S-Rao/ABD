{
 "cells": [
  {
   "cell_type": "code",
   "execution_count": 1,
   "id": "3ac6a049-0591-43b6-92fb-e36adf9fd890",
   "metadata": {},
   "outputs": [],
   "source": [
    "import pyspark\n",
    "from pyspark.sql import SparkSession\n",
    "from pyspark.sql import *\n",
    "from pyspark.sql.types import *\n",
    "from pyspark.sql.functions import *"
   ]
  },
  {
   "cell_type": "code",
   "execution_count": 2,
   "id": "95a888a4-5bc6-4aea-abe9-cb4b023625ab",
   "metadata": {},
   "outputs": [],
   "source": [
    "spark=SparkSession.builder.appName('streaming').getOrCreate()"
   ]
  },
  {
   "cell_type": "code",
   "execution_count": 3,
   "id": "8c08c69e-339d-4675-8a7c-c36ae6ef4b7d",
   "metadata": {},
   "outputs": [],
   "source": [
    "userSchema=StructType().add('Cities',\"string\").add(\"Date\",\"string\").add(\"Time\",\"string\").add(\"Temperature\",\"float\").add(\"Wind\",\"integer\")\\\n",
    "                        .add('Humidity','integer').add('Precipitation','integer')\n",
    "streaming=spark.readStream.schema(userSchema)\\\n",
    "           .option(\"maxFilesPerTrigger\",1)\\\n",
    "           .json('C:/Users/msis/Desktop/data')"
   ]
  },
  {
   "cell_type": "code",
   "execution_count": 4,
   "id": "ef5024f9-07af-412f-9e3b-98f4e898835d",
   "metadata": {},
   "outputs": [],
   "source": [
    "streaming_filter=streaming.filter((col('Temperature')>45) | (col('Wind')>30))"
   ]
  },
  {
   "cell_type": "code",
   "execution_count": null,
   "id": "cfd80afb-084a-4814-9c9e-c7766e1502b0",
   "metadata": {},
   "outputs": [],
   "source": [
    "trigger=streaming_filter.writeStream.queryName('trigger_temp')\\\n",
    "                        .format('console').outputMode('append').start()\n",
    "trigger.awaitTermination()"
   ]
  },
  {
   "cell_type": "code",
   "execution_count": null,
   "id": "6773e93d-4898-4d34-82bb-8c5fc2cf2f59",
   "metadata": {},
   "outputs": [],
   "source": []
  }
 ],
 "metadata": {
  "kernelspec": {
   "display_name": "Python 3 (ipykernel)",
   "language": "python",
   "name": "python3"
  },
  "language_info": {
   "codemirror_mode": {
    "name": "ipython",
    "version": 3
   },
   "file_extension": ".py",
   "mimetype": "text/x-python",
   "name": "python",
   "nbconvert_exporter": "python",
   "pygments_lexer": "ipython3",
   "version": "3.11.4"
  }
 },
 "nbformat": 4,
 "nbformat_minor": 5
}
