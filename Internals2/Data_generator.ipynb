{
 "cells": [
  {
   "cell_type": "code",
   "execution_count": null,
   "id": "c8f65428-1ed8-4ea2-ab5f-f64f5f3a75da",
   "metadata": {},
   "outputs": [],
   "source": [
    "from datetime import date\n",
    "from datetime import datetime\n",
    "import time\n",
    "import random\n",
    "import json\n",
    "cities=['Delhi','Bangalore','Mumbai','Mangalore','Goa']\n",
    "count=300\n",
    "for x in range(0,100):\n",
    "    data={}\n",
    "    readings=[]\n",
    "    for i in range(0,20):\n",
    "        for j in range(0,20):\n",
    "            data['Cities']=cities[random.randint(0,4)]\n",
    "            data['Date']=str(date.today())\n",
    "            data['Time']=str(datetime.now())\n",
    "            data['Temperature']=random.uniform(22,50)\n",
    "            data['Wind']=random.randint(15,40)\n",
    "            data['Humidity']=random.randint(0,35)\n",
    "            data['Precipitation']=random.randint(0,40)\n",
    "            readings.append(data.copy())\n",
    "        time.sleep(1)\n",
    "    fname='weather'+str(count)+'.json'\n",
    "    files=open('./data/'+fname,'w')\n",
    "    files.write(json.dumps(readings))\n",
    "    files.close()\n",
    "    count+=1\n",
    "       "
   ]
  },
  {
   "cell_type": "code",
   "execution_count": null,
   "id": "067718b0-3982-4897-af7d-2522c1bed9b6",
   "metadata": {},
   "outputs": [],
   "source": []
  }
 ],
 "metadata": {
  "kernelspec": {
   "display_name": "Python 3 (ipykernel)",
   "language": "python",
   "name": "python3"
  },
  "language_info": {
   "codemirror_mode": {
    "name": "ipython",
    "version": 3
   },
   "file_extension": ".py",
   "mimetype": "text/x-python",
   "name": "python",
   "nbconvert_exporter": "python",
   "pygments_lexer": "ipython3",
   "version": "3.11.4"
  }
 },
 "nbformat": 4,
 "nbformat_minor": 5
}
