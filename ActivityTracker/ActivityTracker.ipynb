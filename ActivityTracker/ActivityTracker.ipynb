{
 "cells": [
  {
   "cell_type": "code",
   "execution_count": 1,
   "metadata": {},
   "outputs": [],
   "source": [
    "import pyspark\n",
    "from pyspark.sql import SparkSession\n",
    "from pyspark.sql.functions import *\n",
    "from time import sleep"
   ]
  },
  {
   "cell_type": "code",
   "execution_count": 2,
   "metadata": {},
   "outputs": [],
   "source": [
    "spark = SparkSession.builder.appName('Basic streaming').getOrCreate()"
   ]
  },
  {
   "cell_type": "code",
   "execution_count": 4,
   "metadata": {
    "collapsed": true
   },
   "outputs": [
    {
     "name": "stdout",
     "output_type": "stream",
     "text": [
      "root\n",
      " |-- Arrival_Time: long (nullable = true)\n",
      " |-- Creation_Time: long (nullable = true)\n",
      " |-- Device: string (nullable = true)\n",
      " |-- Index: long (nullable = true)\n",
      " |-- Model: string (nullable = true)\n",
      " |-- User: string (nullable = true)\n",
      " |-- gt: string (nullable = true)\n",
      " |-- x: double (nullable = true)\n",
      " |-- y: double (nullable = true)\n",
      " |-- z: double (nullable = true)\n",
      "\n"
     ]
    }
   ],
   "source": [
    "#Get schema of dataset \n",
    "static = spark.read.json(\"D:/Dataset/activity-data\")\n",
    "static.printSchema()\n",
    "dataSchema = static.schema"
   ]
  },
  {
   "cell_type": "code",
   "execution_count": 5,
   "metadata": {},
   "outputs": [],
   "source": [
    "# Create Streming Dataset\n",
    "streaming = spark.readStream.schema(dataSchema).option(\"maxFilesPerTrigger\", 1)\\\n",
    "  .json(\"D:/Dataset/activity-data\")"
   ]
  },
  {
   "cell_type": "code",
   "execution_count": 6,
   "metadata": {},
   "outputs": [],
   "source": [
    "# Get required info from dataset\n",
    "activityCounts = streaming.groupBy(\"gt\").count()"
   ]
  },
  {
   "cell_type": "code",
   "execution_count": 7,
   "metadata": {},
   "outputs": [],
   "source": [
    "# Specify the numner of shuffle partitions\n",
    "spark.conf.set(\"spark.sql.shuffle.partitions\", 1)"
   ]
  },
  {
   "cell_type": "code",
   "execution_count": 8,
   "metadata": {},
   "outputs": [],
   "source": [
    "# Generate query by specifying output sink using writeStream \n",
    "activityQuery = activityCounts.writeStream.queryName(\"activity_count\")\\\n",
    "  .format(\"memory\").outputMode(\"complete\")\\\n",
    "  .start()"
   ]
  },
  {
   "cell_type": "code",
   "execution_count": 9,
   "metadata": {},
   "outputs": [],
   "source": [
    "# Any number of queries (usecases) can be created\n",
    "#userCounts = streaming.groupBy(\"\").count()\n",
    "userCounts = streaming.groupBy('User').count()\n",
    "userQuery = userCounts.writeStream.queryName(\"user_count\")\\\n",
    "  .format(\"memory\").outputMode(\"complete\")\\\n",
    "  .start()"
   ]
  },
  {
   "cell_type": "code",
   "execution_count": 10,
   "metadata": {},
   "outputs": [
    {
     "name": "stdout",
     "output_type": "stream",
     "text": [
      "+----------+-----+\n",
      "|        gt|count|\n",
      "+----------+-----+\n",
      "|       sit|12309|\n",
      "|      walk|13256|\n",
      "|  stairsup|10452|\n",
      "|      bike|10796|\n",
      "|      null|10449|\n",
      "|     stand|11384|\n",
      "|stairsdown| 9365|\n",
      "+----------+-----+\n",
      "\n",
      "+----+-----+\n",
      "|User|count|\n",
      "+----+-----+\n",
      "|   d| 8124|\n",
      "|   c| 7715|\n",
      "|   g| 9167|\n",
      "|   h| 7733|\n",
      "|   e| 9603|\n",
      "|   i| 9255|\n",
      "|   f| 9206|\n",
      "|   b| 9123|\n",
      "|   a| 8085|\n",
      "+----+-----+\n",
      "\n",
      "+----------+-----+\n",
      "|        gt|count|\n",
      "+----------+-----+\n",
      "|  stairsup|52260|\n",
      "|     stand|56924|\n",
      "|       sit|61547|\n",
      "|      walk|66280|\n",
      "|      bike|53984|\n",
      "|      null|52239|\n",
      "|stairsdown|46825|\n",
      "+----------+-----+\n",
      "\n",
      "+----+-----+\n",
      "|User|count|\n",
      "+----+-----+\n",
      "|   h|38665|\n",
      "|   e|48015|\n",
      "|   d|40620|\n",
      "|   c|38575|\n",
      "|   g|45839|\n",
      "|   i|46275|\n",
      "|   f|46030|\n",
      "|   b|45615|\n",
      "|   a|40425|\n",
      "+----+-----+\n",
      "\n",
      "+----------+------+\n",
      "|        gt| count|\n",
      "+----------+------+\n",
      "|  stairsup|104521|\n",
      "|     stand|113849|\n",
      "|       sit|123085|\n",
      "|      walk|132560|\n",
      "|      bike|107974|\n",
      "|      null|104482|\n",
      "|stairsdown| 93648|\n",
      "+----------+------+\n",
      "\n",
      "+----+-----+\n",
      "|User|count|\n",
      "+----+-----+\n",
      "|   h|77330|\n",
      "|   e|96030|\n",
      "|   d|81240|\n",
      "|   c|77150|\n",
      "|   g|91679|\n",
      "|   i|92550|\n",
      "|   f|92060|\n",
      "|   b|91230|\n",
      "|   a|80850|\n",
      "+----+-----+\n",
      "\n",
      "+----------+------+\n",
      "|        gt| count|\n",
      "+----------+------+\n",
      "|  stairsup|167255|\n",
      "|     stand|182165|\n",
      "|       sit|196927|\n",
      "|      walk|212095|\n",
      "|      bike|172762|\n",
      "|      null|167168|\n",
      "|stairsdown|149819|\n",
      "+----------+------+\n",
      "\n",
      "+----+------+\n",
      "|User| count|\n",
      "+----+------+\n",
      "|   h|123726|\n",
      "|   e|153648|\n",
      "|   d|129988|\n",
      "|   c|123440|\n",
      "|   g|146687|\n",
      "|   i|148082|\n",
      "|   f|147292|\n",
      "|   b|145968|\n",
      "|   a|129360|\n",
      "+----+------+\n",
      "\n",
      "+----------+------+\n",
      "|        gt| count|\n",
      "+----------+------+\n",
      "|  stairsup|219543|\n",
      "|     stand|239093|\n",
      "|       sit|258467|\n",
      "|      walk|278375|\n",
      "|      bike|226746|\n",
      "|      null|219400|\n",
      "|stairsdown|196623|\n",
      "+----------+------+\n",
      "\n",
      "+----+------+\n",
      "|User| count|\n",
      "+----+------+\n",
      "|   h|162386|\n",
      "|   e|201659|\n",
      "|   d|170613|\n",
      "|   c|162015|\n",
      "|   g|192527|\n",
      "|   i|194362|\n",
      "|   f|193317|\n",
      "|   b|191583|\n",
      "|   a|169785|\n",
      "+----+------+\n",
      "\n"
     ]
    }
   ],
   "source": [
    "# Display result\n",
    "for x in range(5):\n",
    "    spark.sql('SELECT * FROM activity_count').show()\n",
    "    spark.sql('SELECT * FROM user_count').show()\n",
    "    sleep(10)"
   ]
  },
  {
   "cell_type": "code",
   "execution_count": null,
   "metadata": {},
   "outputs": [],
   "source": [
    "# Run nonstop\n",
    "activityQuery.awaitTermination()"
   ]
  },
  {
   "cell_type": "code",
   "execution_count": null,
   "metadata": {},
   "outputs": [],
   "source": []
  }
 ],
 "metadata": {
  "kernelspec": {
   "display_name": "Python 3",
   "language": "python",
   "name": "python3"
  },
  "language_info": {
   "codemirror_mode": {
    "name": "ipython",
    "version": 3
   },
   "file_extension": ".py",
   "mimetype": "text/x-python",
   "name": "python",
   "nbconvert_exporter": "python",
   "pygments_lexer": "ipython3",
   "version": "3.7.6"
  }
 },
 "nbformat": 4,
 "nbformat_minor": 4
}
